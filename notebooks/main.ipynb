{
 "cells": [
  {
   "cell_type": "markdown",
   "metadata": {},
   "source": [
    "# Part I. ETL Pipeline for Pre-Processing the Files\n"
   ]
  },
  {
   "cell_type": "markdown",
   "metadata": {},
   "source": [
    "### Import Python packages\n"
   ]
  },
  {
   "cell_type": "code",
   "execution_count": 1,
   "metadata": {},
   "outputs": [],
   "source": [
    "import pandas as pd\n",
    "import cassandra\n",
    "import re\n",
    "import os\n",
    "import sys\n",
    "import glob\n",
    "import numpy as np\n",
    "import json\n",
    "import csv\n",
    "import logging\n",
    "import warnings\n",
    "\n",
    "from tqdm.rich import tqdm\n",
    "from rich import traceback\n",
    "from pathlib import Path\n"
   ]
  },
  {
   "cell_type": "code",
   "execution_count": 2,
   "metadata": {},
   "outputs": [],
   "source": [
    "src_path: str = \"../src\"\n",
    "sys.path.append(src_path)\n",
    "_ = traceback.install()\n",
    "logging.basicConfig(force=True)\n",
    "logging.getLogger().setLevel(logging.ERROR)\n",
    "warnings.filterwarnings(\"ignore\")\n"
   ]
  },
  {
   "cell_type": "code",
   "execution_count": 3,
   "metadata": {},
   "outputs": [],
   "source": [
    "from cql_queries import *\n"
   ]
  },
  {
   "cell_type": "code",
   "execution_count": 4,
   "metadata": {},
   "outputs": [],
   "source": [
    "data_path: Path = Path(os.getcwd()).parent.joinpath(\"event_data\")\n"
   ]
  },
  {
   "cell_type": "markdown",
   "metadata": {},
   "source": [
    "### Creating list of filepaths to process original event csv data files\n"
   ]
  },
  {
   "cell_type": "code",
   "execution_count": 5,
   "metadata": {},
   "outputs": [
    {
     "data": {
      "text/plain": [
       "[PosixPath('/home/uziel/Development/sparkify_cassandra/event_data/2018-11-21-events.csv'),\n",
       " PosixPath('/home/uziel/Development/sparkify_cassandra/event_data/2018-11-15-events.csv')]"
      ]
     },
     "execution_count": 5,
     "metadata": {},
     "output_type": "execute_result"
    }
   ],
   "source": [
    "file_path_list = [f.resolve() for f in data_path.glob(\"**/*-events.csv\")]\n",
    "file_path_list[:2]\n"
   ]
  },
  {
   "cell_type": "markdown",
   "metadata": {},
   "source": [
    "### Processing the files to create the data file csv that will be used for Apache Casssandra tables\n",
    "\n",
    "Only relevant columns are used, as well as those records without missing values (similar to the pre-selected rows in the original project description).\n"
   ]
  },
  {
   "cell_type": "code",
   "execution_count": 6,
   "metadata": {},
   "outputs": [],
   "source": [
    "relevant_cols = [\n",
    "    \"sessionId\",\n",
    "    \"itemInSession\",\n",
    "    \"userId\",\n",
    "    \"firstName\",\n",
    "    \"lastName\",\n",
    "    \"gender\",\n",
    "    \"level\",\n",
    "    \"location\",\n",
    "    \"artist\",\n",
    "    \"song\",\n",
    "    \"length\",\n",
    "]\n",
    "pd.concat([pd.read_csv(f, dtype=object) for f in file_path_list])[\n",
    "    relevant_cols\n",
    "].dropna().reset_index(drop=True).to_csv(data_path.joinpath(\"combined_event_data.csv\"))\n"
   ]
  },
  {
   "cell_type": "markdown",
   "metadata": {},
   "source": [
    "### Load combined data and check shape\n"
   ]
  },
  {
   "cell_type": "code",
   "execution_count": 7,
   "metadata": {},
   "outputs": [
    {
     "name": "stdout",
     "output_type": "stream",
     "text": [
      "(6820, 11)\n"
     ]
    },
    {
     "data": {
      "text/html": [
       "<div>\n",
       "<style scoped>\n",
       "    .dataframe tbody tr th:only-of-type {\n",
       "        vertical-align: middle;\n",
       "    }\n",
       "\n",
       "    .dataframe tbody tr th {\n",
       "        vertical-align: top;\n",
       "    }\n",
       "\n",
       "    .dataframe thead th {\n",
       "        text-align: right;\n",
       "    }\n",
       "</style>\n",
       "<table border=\"1\" class=\"dataframe\">\n",
       "  <thead>\n",
       "    <tr style=\"text-align: right;\">\n",
       "      <th></th>\n",
       "      <th>sessionId</th>\n",
       "      <th>itemInSession</th>\n",
       "      <th>userId</th>\n",
       "      <th>firstName</th>\n",
       "      <th>lastName</th>\n",
       "      <th>gender</th>\n",
       "      <th>level</th>\n",
       "      <th>location</th>\n",
       "      <th>artist</th>\n",
       "      <th>song</th>\n",
       "      <th>length</th>\n",
       "    </tr>\n",
       "  </thead>\n",
       "  <tbody>\n",
       "    <tr>\n",
       "      <th>0</th>\n",
       "      <td>774</td>\n",
       "      <td>4</td>\n",
       "      <td>80</td>\n",
       "      <td>Tegan</td>\n",
       "      <td>Levine</td>\n",
       "      <td>F</td>\n",
       "      <td>paid</td>\n",
       "      <td>Portland-South Portland, ME</td>\n",
       "      <td>Facto Delafe y las flores azules</td>\n",
       "      <td>Enero en la playa</td>\n",
       "      <td>315.81995</td>\n",
       "    </tr>\n",
       "    <tr>\n",
       "      <th>1</th>\n",
       "      <td>671</td>\n",
       "      <td>0</td>\n",
       "      <td>97</td>\n",
       "      <td>Kate</td>\n",
       "      <td>Harrell</td>\n",
       "      <td>F</td>\n",
       "      <td>paid</td>\n",
       "      <td>Lansing-East Lansing, MI</td>\n",
       "      <td>Kings Of Leon</td>\n",
       "      <td>Manhattan</td>\n",
       "      <td>204.27710</td>\n",
       "    </tr>\n",
       "    <tr>\n",
       "      <th>2</th>\n",
       "      <td>671</td>\n",
       "      <td>1</td>\n",
       "      <td>97</td>\n",
       "      <td>Kate</td>\n",
       "      <td>Harrell</td>\n",
       "      <td>F</td>\n",
       "      <td>paid</td>\n",
       "      <td>Lansing-East Lansing, MI</td>\n",
       "      <td>Franz Ferdinand</td>\n",
       "      <td>Michael</td>\n",
       "      <td>204.12036</td>\n",
       "    </tr>\n",
       "    <tr>\n",
       "      <th>3</th>\n",
       "      <td>774</td>\n",
       "      <td>5</td>\n",
       "      <td>80</td>\n",
       "      <td>Tegan</td>\n",
       "      <td>Levine</td>\n",
       "      <td>F</td>\n",
       "      <td>paid</td>\n",
       "      <td>Portland-South Portland, ME</td>\n",
       "      <td>Blue October</td>\n",
       "      <td>Drilled A Wire Through My Cheek</td>\n",
       "      <td>272.32608</td>\n",
       "    </tr>\n",
       "    <tr>\n",
       "      <th>4</th>\n",
       "      <td>671</td>\n",
       "      <td>2</td>\n",
       "      <td>97</td>\n",
       "      <td>Kate</td>\n",
       "      <td>Harrell</td>\n",
       "      <td>F</td>\n",
       "      <td>paid</td>\n",
       "      <td>Lansing-East Lansing, MI</td>\n",
       "      <td>Elisa</td>\n",
       "      <td>Almeno Tu Nell'Universo</td>\n",
       "      <td>248.97261</td>\n",
       "    </tr>\n",
       "  </tbody>\n",
       "</table>\n",
       "</div>"
      ],
      "text/plain": [
       "   sessionId  itemInSession  userId firstName lastName gender level  \\\n",
       "0        774              4      80     Tegan   Levine      F  paid   \n",
       "1        671              0      97      Kate  Harrell      F  paid   \n",
       "2        671              1      97      Kate  Harrell      F  paid   \n",
       "3        774              5      80     Tegan   Levine      F  paid   \n",
       "4        671              2      97      Kate  Harrell      F  paid   \n",
       "\n",
       "                      location                            artist  \\\n",
       "0  Portland-South Portland, ME  Facto Delafe y las flores azules   \n",
       "1     Lansing-East Lansing, MI                     Kings Of Leon   \n",
       "2     Lansing-East Lansing, MI                   Franz Ferdinand   \n",
       "3  Portland-South Portland, ME                      Blue October   \n",
       "4     Lansing-East Lansing, MI                             Elisa   \n",
       "\n",
       "                              song     length  \n",
       "0                Enero en la playa  315.81995  \n",
       "1                        Manhattan  204.27710  \n",
       "2                          Michael  204.12036  \n",
       "3  Drilled A Wire Through My Cheek  272.32608  \n",
       "4          Almeno Tu Nell'Universo  248.97261  "
      ]
     },
     "execution_count": 7,
     "metadata": {},
     "output_type": "execute_result"
    }
   ],
   "source": [
    "data_df = pd.read_csv(\n",
    "    data_path.joinpath(\"combined_event_data.csv\"),\n",
    "    index_col=0,\n",
    "    quoting=csv.QUOTE_ALL,\n",
    ")\n",
    "print(data_df.shape)\n",
    "data_df.head()\n"
   ]
  },
  {
   "cell_type": "markdown",
   "metadata": {},
   "source": [
    "# Part II. Creating query-optimized tables\n"
   ]
  },
  {
   "cell_type": "markdown",
   "metadata": {},
   "source": [
    "#### Creating a Cluster\n"
   ]
  },
  {
   "cell_type": "code",
   "execution_count": 8,
   "metadata": {},
   "outputs": [],
   "source": [
    "from cassandra.cluster import Cluster\n",
    "\n",
    "try:\n",
    "    cluster = Cluster(\n",
    "        [\"127.0.0.1\"]\n",
    "    )  # If you have a locally installed Apache Cassandra instance\n",
    "    session = cluster.connect()\n",
    "except Exception as e:\n",
    "    print(e)\n"
   ]
  },
  {
   "cell_type": "markdown",
   "metadata": {},
   "source": [
    "#### Create Keyspace\n"
   ]
  },
  {
   "cell_type": "code",
   "execution_count": 9,
   "metadata": {},
   "outputs": [],
   "source": [
    "try:\n",
    "    session.execute(\n",
    "        \"\"\"\n",
    "        CREATE KEYSPACE IF NOT EXISTS sparkify\n",
    "        WITH REPLICATION = { 'class' : 'SimpleStrategy', 'replication_factor' : 1 }\n",
    "        \"\"\"\n",
    "    )\n",
    "\n",
    "except Exception as e:\n",
    "    print(e)\n"
   ]
  },
  {
   "cell_type": "markdown",
   "metadata": {},
   "source": [
    "#### Set Keyspace\n"
   ]
  },
  {
   "cell_type": "code",
   "execution_count": 10,
   "metadata": {},
   "outputs": [],
   "source": [
    "try:\n",
    "    session.set_keyspace(\"sparkify\")\n",
    "except Exception as e:\n",
    "    print(e)\n"
   ]
  },
  {
   "cell_type": "markdown",
   "metadata": {},
   "source": [
    "## Create queries to ask the following three questions of the data\n"
   ]
  },
  {
   "cell_type": "code",
   "execution_count": 11,
   "metadata": {},
   "outputs": [],
   "source": [
    "common_columns = [\n",
    "    \"sessionId int\",\n",
    "    \"itemInSession int\",\n",
    "    \"userId int\",\n",
    "    \"firstName text\",\n",
    "    \"lastName text\",\n",
    "    \"gender text\",\n",
    "    \"level text\",\n",
    "    \"location text\",\n",
    "    \"artist text\",\n",
    "    \"song text\",\n",
    "    \"length decimal\",\n",
    "]\n"
   ]
  },
  {
   "cell_type": "markdown",
   "metadata": {},
   "source": [
    "### 1. Get artist, song title and song's length in the music app history that was heard during sessionId = 338, and itemInSession = 4"
   ]
  },
  {
   "cell_type": "code",
   "execution_count": 12,
   "metadata": {},
   "outputs": [],
   "source": [
    "pk_cols = (\"sessionId\", \"itemInSession\")\n",
    "sorted_cols = [*pk_cols, *(c for c in data_df.columns if c not in pk_cols)]\n"
   ]
  },
  {
   "cell_type": "markdown",
   "metadata": {},
   "source": [
    "#### 1.1. Create table\n"
   ]
  },
  {
   "cell_type": "code",
   "execution_count": 13,
   "metadata": {},
   "outputs": [
    {
     "data": {
      "text/plain": [
       "<cassandra.cluster.ResultSet at 0x7ff4bb1b8ee0>"
      ]
     },
     "execution_count": 13,
     "metadata": {},
     "output_type": "execute_result"
    }
   ],
   "source": [
    "session.execute(\n",
    "    get_create_table_query(\n",
    "        \"session_library\",\n",
    "        common_columns + [f\"PRIMARY KEY ({', '.join(pk_cols)})\"],\n",
    "    )\n",
    ")\n"
   ]
  },
  {
   "cell_type": "markdown",
   "metadata": {},
   "source": [
    "#### 1.2. Insert rows\n"
   ]
  },
  {
   "cell_type": "code",
   "execution_count": 14,
   "metadata": {},
   "outputs": [
    {
     "data": {
      "application/vnd.jupyter.widget-view+json": {
       "model_id": "215c8d97cb614138896b0ba7b78243cc",
       "version_major": 2,
       "version_minor": 0
      },
      "text/plain": [
       "Output()"
      ]
     },
     "metadata": {},
     "output_type": "display_data"
    },
    {
     "data": {
      "text/html": [
       "<pre style=\"white-space:pre;overflow-x:auto;line-height:normal;font-family:Menlo,'DejaVu Sans Mono',consolas,'Courier New',monospace\"></pre>\n"
      ],
      "text/plain": []
     },
     "metadata": {},
     "output_type": "display_data"
    },
    {
     "data": {
      "text/html": [
       "<pre style=\"white-space:pre;overflow-x:auto;line-height:normal;font-family:Menlo,'DejaVu Sans Mono',consolas,'Courier New',monospace\">\n",
       "</pre>\n"
      ],
      "text/plain": [
       "\n"
      ]
     },
     "metadata": {},
     "output_type": "display_data"
    }
   ],
   "source": [
    "for index, row in tqdm(data_df.iterrows(), total=len(data_df)):\n",
    "    try:\n",
    "        session.execute(\n",
    "            get_simple_insert_query(\"session_library\", sorted_cols),\n",
    "            tuple(row[sorted_cols].values),\n",
    "        )\n",
    "    except Exception as e:\n",
    "        print(e)\n"
   ]
  },
  {
   "cell_type": "markdown",
   "metadata": {},
   "source": [
    "#### 1.3. Select query\n"
   ]
  },
  {
   "cell_type": "code",
   "execution_count": 15,
   "metadata": {},
   "outputs": [
    {
     "name": "stdout",
     "output_type": "stream",
     "text": [
      "['Faithless', 'Music Matters (Mark Knight Dub)', Decimal('495.3073')]\n"
     ]
    }
   ],
   "source": [
    "select_cols = (\"artist\", \"song\", \"length\")\n",
    "\n",
    "rows = session.execute(\n",
    "    get_simple_select_query(\n",
    "        \"session_library\",\n",
    "        select_cols,\n",
    "        {\"sessionId\": 338, \"itemInSession\": 4},\n",
    "    )\n",
    ")\n",
    "\n",
    "for row in rows:\n",
    "    print([getattr(row, c.lower()) for c in select_cols])\n"
   ]
  },
  {
   "cell_type": "markdown",
   "metadata": {},
   "source": [
    "### 2. Get only the following: name of artist, song (sorted by itemInSession) and user (first and last name) for userid = 10, sessionid = 182\n"
   ]
  },
  {
   "cell_type": "code",
   "execution_count": 16,
   "metadata": {},
   "outputs": [],
   "source": [
    "pk_cols = (\"userId\", \"sessionId\", \"itemInSession\")\n",
    "sorted_cols = [*pk_cols, *(c for c in data_df.columns if c not in pk_cols)]\n"
   ]
  },
  {
   "cell_type": "markdown",
   "metadata": {},
   "source": [
    "#### 2.1. Create table\n"
   ]
  },
  {
   "cell_type": "code",
   "execution_count": 17,
   "metadata": {},
   "outputs": [
    {
     "data": {
      "text/plain": [
       "<cassandra.cluster.ResultSet at 0x7ff4a1b510f0>"
      ]
     },
     "execution_count": 17,
     "metadata": {},
     "output_type": "execute_result"
    }
   ],
   "source": [
    "session.execute(\n",
    "    get_create_table_query(\n",
    "        \"user_library\",\n",
    "        common_columns + [f\"PRIMARY KEY ({', '.join(pk_cols)})\"],\n",
    "    )\n",
    ")\n"
   ]
  },
  {
   "cell_type": "markdown",
   "metadata": {},
   "source": [
    "#### 2.2. Insert rows\n"
   ]
  },
  {
   "cell_type": "code",
   "execution_count": 18,
   "metadata": {},
   "outputs": [
    {
     "data": {
      "application/vnd.jupyter.widget-view+json": {
       "model_id": "4e693991f7b84d42ae4f1112d8d99b06",
       "version_major": 2,
       "version_minor": 0
      },
      "text/plain": [
       "Output()"
      ]
     },
     "metadata": {},
     "output_type": "display_data"
    },
    {
     "data": {
      "text/html": [
       "<pre style=\"white-space:pre;overflow-x:auto;line-height:normal;font-family:Menlo,'DejaVu Sans Mono',consolas,'Courier New',monospace\"></pre>\n"
      ],
      "text/plain": []
     },
     "metadata": {},
     "output_type": "display_data"
    },
    {
     "data": {
      "text/html": [
       "<pre style=\"white-space:pre;overflow-x:auto;line-height:normal;font-family:Menlo,'DejaVu Sans Mono',consolas,'Courier New',monospace\">\n",
       "</pre>\n"
      ],
      "text/plain": [
       "\n"
      ]
     },
     "metadata": {},
     "output_type": "display_data"
    }
   ],
   "source": [
    "for index, row in tqdm(data_df.iterrows(), total=len(data_df)):\n",
    "    try:\n",
    "        session.execute(\n",
    "            get_simple_insert_query(\"user_library\", sorted_cols),\n",
    "            tuple(row[sorted_cols].values),\n",
    "        )\n",
    "    except Exception as e:\n",
    "        print(e)\n"
   ]
  },
  {
   "cell_type": "markdown",
   "metadata": {},
   "source": [
    "#### 2.3. Select query\n"
   ]
  },
  {
   "cell_type": "code",
   "execution_count": 19,
   "metadata": {},
   "outputs": [
    {
     "name": "stdout",
     "output_type": "stream",
     "text": [
      "['Down To The Bone', \"Keep On Keepin' On\", 'Sylvie', 'Cruz']\n",
      "['Three Drives', 'Greece 2000', 'Sylvie', 'Cruz']\n",
      "['Sebastien Tellier', 'Kilometer', 'Sylvie', 'Cruz']\n",
      "['Lonnie Gordon', 'Catch You Baby (Steve Pitron & Max Sanna Radio Edit)', 'Sylvie', 'Cruz']\n"
     ]
    }
   ],
   "source": [
    "select_cols = (\"artist\", \"song\", \"firstName\", \"lastName\")\n",
    "\n",
    "rows = session.execute(\n",
    "    get_simple_select_query(\n",
    "        \"user_library\",\n",
    "        select_cols,\n",
    "        {\"userId\": 10, \"sessionId\": 182},\n",
    "    )\n",
    ")\n",
    "\n",
    "for row in rows:\n",
    "    print([getattr(row, c.lower()) for c in select_cols])\n"
   ]
  },
  {
   "cell_type": "markdown",
   "metadata": {},
   "source": [
    "### 3. Get every user name (first and last) in my music app history who listened to the song 'All Hands Against His Own'\n"
   ]
  },
  {
   "cell_type": "code",
   "execution_count": 20,
   "metadata": {},
   "outputs": [],
   "source": [
    "pk_cols = (\"song\", \"sessionId\", \"itemInSession\")\n",
    "sorted_cols = [*pk_cols, *(c for c in data_df.columns if c not in pk_cols)]\n"
   ]
  },
  {
   "cell_type": "markdown",
   "metadata": {},
   "source": [
    "#### 3.1. Create table\n"
   ]
  },
  {
   "cell_type": "code",
   "execution_count": 21,
   "metadata": {},
   "outputs": [
    {
     "data": {
      "text/plain": [
       "<cassandra.cluster.ResultSet at 0x7ff42fa7d030>"
      ]
     },
     "execution_count": 21,
     "metadata": {},
     "output_type": "execute_result"
    }
   ],
   "source": [
    "session.execute(\n",
    "    get_create_table_query(\n",
    "        \"song_library\",\n",
    "        common_columns + [f\"PRIMARY KEY ({', '.join(pk_cols)})\"],\n",
    "    )\n",
    ")\n"
   ]
  },
  {
   "cell_type": "markdown",
   "metadata": {},
   "source": [
    "#### 3.2. Insert rows\n"
   ]
  },
  {
   "cell_type": "code",
   "execution_count": 22,
   "metadata": {},
   "outputs": [
    {
     "data": {
      "application/vnd.jupyter.widget-view+json": {
       "model_id": "04b9b169daa5448b84ad66eaac4a4828",
       "version_major": 2,
       "version_minor": 0
      },
      "text/plain": [
       "Output()"
      ]
     },
     "metadata": {},
     "output_type": "display_data"
    },
    {
     "data": {
      "text/html": [
       "<pre style=\"white-space:pre;overflow-x:auto;line-height:normal;font-family:Menlo,'DejaVu Sans Mono',consolas,'Courier New',monospace\"></pre>\n"
      ],
      "text/plain": []
     },
     "metadata": {},
     "output_type": "display_data"
    },
    {
     "data": {
      "text/html": [
       "<pre style=\"white-space:pre;overflow-x:auto;line-height:normal;font-family:Menlo,'DejaVu Sans Mono',consolas,'Courier New',monospace\">\n",
       "</pre>\n"
      ],
      "text/plain": [
       "\n"
      ]
     },
     "metadata": {},
     "output_type": "display_data"
    }
   ],
   "source": [
    "for index, row in tqdm(data_df.iterrows(), total=len(data_df)):\n",
    "    try:\n",
    "        session.execute(\n",
    "            get_simple_insert_query(\"song_library\", sorted_cols),\n",
    "            tuple(row[sorted_cols].values),\n",
    "        )\n",
    "    except Exception as e:\n",
    "        print(e)\n"
   ]
  },
  {
   "cell_type": "markdown",
   "metadata": {},
   "source": [
    "#### 3.3. Select query\n"
   ]
  },
  {
   "cell_type": "code",
   "execution_count": 23,
   "metadata": {},
   "outputs": [
    {
     "name": "stdout",
     "output_type": "stream",
     "text": [
      "['Sara', 'Johnson']\n",
      "['Jacqueline', 'Lynch']\n",
      "['Tegan', 'Levine']\n"
     ]
    }
   ],
   "source": [
    "select_cols = (\"firstName\", \"lastName\")\n",
    "\n",
    "rows = session.execute(\n",
    "    get_simple_select_query(\n",
    "        \"song_library\",\n",
    "        select_cols,\n",
    "        {\"song\": \"'All Hands Against His Own'\"},\n",
    "    )\n",
    ")\n",
    "\n",
    "for row in rows:\n",
    "    print([getattr(row, c.lower()) for c in select_cols])\n"
   ]
  },
  {
   "cell_type": "markdown",
   "metadata": {},
   "source": [
    "### Drop the tables before closing out the sessions\n"
   ]
  },
  {
   "cell_type": "code",
   "execution_count": 24,
   "metadata": {},
   "outputs": [
    {
     "data": {
      "text/plain": [
       "<cassandra.cluster.ResultSet at 0x7ff42c472da0>"
      ]
     },
     "execution_count": 24,
     "metadata": {},
     "output_type": "execute_result"
    }
   ],
   "source": [
    "session.execute(get_drop_table_query(\"session_library\"))\n",
    "session.execute(get_drop_table_query(\"user_library\"))\n",
    "session.execute(get_drop_table_query(\"song_library\"))\n"
   ]
  },
  {
   "cell_type": "markdown",
   "metadata": {},
   "source": [
    "### Close the session and cluster connection¶\n"
   ]
  },
  {
   "cell_type": "code",
   "execution_count": 25,
   "metadata": {},
   "outputs": [],
   "source": [
    "session.shutdown()\n",
    "cluster.shutdown()\n"
   ]
  }
 ],
 "metadata": {
  "kernelspec": {
   "display_name": "Python 3.10.6",
   "language": "python",
   "name": "python3"
  },
  "language_info": {
   "codemirror_mode": {
    "name": "ipython",
    "version": 3
   },
   "file_extension": ".py",
   "mimetype": "text/x-python",
   "name": "python",
   "nbconvert_exporter": "python",
   "pygments_lexer": "ipython3",
   "version": "3.10.6"
  },
  "vscode": {
   "interpreter": {
    "hash": "abd28868cb6794ff4f1a84c58620cb1e71bf602062d966dbcb528d654e16f6b3"
   }
  }
 },
 "nbformat": 4,
 "nbformat_minor": 2
}
